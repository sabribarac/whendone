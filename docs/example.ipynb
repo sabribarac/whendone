{
    "cells": [
        {
            "cell_type": "markdown",
            "metadata": {},
            "source": [
                "# Example usage\n",
                "\n",
                "To use `whendone` in a project:"
            ]
        },
        {
            "attachments": {},
            "cell_type": "markdown",
            "metadata": {},
            "source": [
                "# Telegram Use"
            ]
        },
        {
            "cell_type": "code",
            "execution_count": null,
            "metadata": {},
            "outputs": [],
            "source": [
                "from whendone import WhenDone\n",
                "\n",
                "notifier = WhenDone(telegram_token='XXXXXXXXXXX')\n",
                "\n",
                "# Add decorator to function\n",
                "@notifier.whendone\n",
                "def Test():\n",
                "    print('Hello World')\n",
                "\n",
                "# Function call"
            ]
        },
        {
            "attachments": {},
            "cell_type": "markdown",
            "metadata": {},
            "source": [
                "# Slack Use"
            ]
        },
        {
            "cell_type": "code",
            "execution_count": null,
            "metadata": {},
            "outputs": [],
            "source": [
                "# Import library\n",
                "from whendone import WhenDone\n",
                "# Initialize\n",
                "notifier = WhenDone(slack_token='XXXXXXXXXXX')\n",
                "notifier.addSlackChatID('XXXXX')\n",
                "\n",
                "# Add decorator to function\n",
                "@notifier.whendone\n",
                "def Test():\n",
                "    print('Hello World')\n",
                "\n",
                "# Function call"
            ]
        },
        {
            "attachments": {},
            "cell_type": "markdown",
            "metadata": {},
            "source": [
                "# Telegram and Slack"
            ]
        },
        {
            "cell_type": "code",
            "execution_count": null,
            "metadata": {},
            "outputs": [],
            "source": [
                "# Import library\n",
                "from whendone import WhenDone\n",
                "# Initialize\n",
                "notifier = WhenDone(telegram_token='XXXXXXXXXXX',slack_token='XXXXXXXXXXX')\n",
                "notifier.addSlackChatID('XXXXX')\n",
                "\n",
                "# Add decorator to function\n",
                "@notifier.whendone\n",
                "def Test():\n",
                "    print('Hello World')\n",
                "\n",
                "# Function call"
            ]
        }
    ],
    "metadata": {
        "kernelspec": {
            "display_name": "when_done",
            "language": "python",
            "name": "python3"
        },
        "language_info": {
            "codemirror_mode": {
                "name": "ipython",
                "version": 3
            },
            "file_extension": ".py",
            "mimetype": "text/x-python",
            "name": "python",
            "nbconvert_exporter": "python",
            "pygments_lexer": "ipython3",
            "version": "3.11.0"
        },
        "vscode": {
            "interpreter": {
                "hash": "cb443e81ca11927b561e8468d9820925693a9b91ba8a2105ebc85e2965298fb5"
            }
        }
    },
    "nbformat": 4,
    "nbformat_minor": 4
}
